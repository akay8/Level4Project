{
 "cells": [
  {
   "attachments": {},
   "cell_type": "markdown",
   "metadata": {},
   "source": [
    "# Test File - Pushing to Git"
   ]
  },
  {
   "attachments": {},
   "cell_type": "markdown",
   "metadata": {},
   "source": [
    "Git use is successful - set up and saving ok."
   ]
  },
  {
   "attachments": {},
   "cell_type": "markdown",
   "metadata": {},
   "source": [
    "# Aims for this notebook:\n",
    "- Import data from the scan feature in ImageJ\n",
    "- Plot data (normalise) and fit to Gaussians to find waist values \n",
    "- Plot all waist values against z distance to extropolate back and find w0"
   ]
  },
  {
   "attachments": {},
   "cell_type": "markdown",
   "metadata": {},
   "source": [
    "## Import all useful libraries / tools"
   ]
  },
  {
   "cell_type": "code",
   "execution_count": 1,
   "metadata": {},
   "outputs": [],
   "source": [
    "import numpy as np\n",
    "import matplotlib.pyplot as plt\n",
    "import pandas as pd\n",
    "from scipy.optimize import curve_fit"
   ]
  },
  {
   "attachments": {},
   "cell_type": "markdown",
   "metadata": {},
   "source": [
    "## Import Data"
   ]
  },
  {
   "cell_type": "code",
   "execution_count": 10,
   "metadata": {},
   "outputs": [],
   "source": [
    "# Define useful path to data\n",
    "global_path = \"D:/1. L4 Project/Fibres/2023-11-28/Data-Photo2/\"\n",
    "\n",
    "# Import an execl sheet as dataframe, called 'Values1'\n",
    "# NB: Image J seems to have saved this 'excel sheet' as a csv file\n",
    "df_test = pd.read_csv(global_path + 'Values1.csv')"
   ]
  },
  {
   "cell_type": "code",
   "execution_count": 11,
   "metadata": {},
   "outputs": [
    {
     "name": "stdout",
     "output_type": "stream",
     "text": [
      "    Distance_(microns)  Gray_Value    z\n",
      "0               0.0000   17274.000  0.0\n",
      "1               0.4711   17328.096  NaN\n",
      "2               0.9422   16588.904  NaN\n",
      "3               1.4133   17006.715  NaN\n",
      "4               1.8844   17116.953  NaN\n",
      "..                 ...         ...  ...\n",
      "59             27.7955   17332.666  NaN\n",
      "60             28.2666   17507.000  NaN\n",
      "61             28.7377   17148.477  NaN\n",
      "62             29.2088   17417.477  NaN\n",
      "63             29.6799   17274.000  NaN\n",
      "\n",
      "[64 rows x 3 columns]\n"
     ]
    }
   ],
   "source": [
    "print(df_test)"
   ]
  }
 ],
 "metadata": {
  "kernelspec": {
   "display_name": "Python 3",
   "language": "python",
   "name": "python3"
  },
  "language_info": {
   "codemirror_mode": {
    "name": "ipython",
    "version": 3
   },
   "file_extension": ".py",
   "mimetype": "text/x-python",
   "name": "python",
   "nbconvert_exporter": "python",
   "pygments_lexer": "ipython3",
   "version": "3.11.0"
  },
  "orig_nbformat": 4
 },
 "nbformat": 4,
 "nbformat_minor": 2
}
